{
  "nbformat": 4,
  "nbformat_minor": 0,
  "metadata": {
    "colab": {
      "provenance": [],
      "authorship_tag": "ABX9TyPMmk0Kn3bfSl2V7zBq4yfM",
      "include_colab_link": true
    },
    "kernelspec": {
      "name": "python3",
      "display_name": "Python 3"
    },
    "language_info": {
      "name": "python"
    }
  },
  "cells": [
    {
      "cell_type": "markdown",
      "metadata": {
        "id": "view-in-github",
        "colab_type": "text"
      },
      "source": [
        "<a href=\"https://colab.research.google.com/github/pyellapu07/amazon_marvelproducts_datascrapped/blob/main/amazon_marvel_webscrapping.ipynb\" target=\"_parent\"><img src=\"https://colab.research.google.com/assets/colab-badge.svg\" alt=\"Open In Colab\"/></a>"
      ]
    },
    {
      "cell_type": "code",
      "execution_count": 30,
      "metadata": {
        "id": "MKYtfGisxmcA"
      },
      "outputs": [],
      "source": [
        "from bs4  import BeautifulSoup as bs\n",
        "from urllib.request import urlopen as ureq\n",
        "import urllib.request\n",
        "from requests import get"
      ]
    },
    {
      "cell_type": "code",
      "source": [
        "url='https://www.amazon.in/s?k=marvel+legends&i=toys&crid=32VY6RVCFIOGG&sprefix=marvel+%2Ctoys%2C295&ref=nb_sb_ss_pltr-sample-20_1_7'\n",
        "\n",
        "hdr = {'User-Agent': 'Mozilla/5.0 (X11; Linux x86_64) AppleWebKit/537.11 (KHTML, like Gecko) Chrome/23.0.1271.64 Safari/537.11',\n",
        "      'Accept': 'text/html,application/xhtml+xml,application/xml;q=0.9,*/*;q=0.8',\n",
        "      'Referer': 'https://cssspritegenerator.com',\n",
        "      'Accept-Charset': 'ISO-8859-1,utf-8;q=0.7,*;q=0.3',\n",
        "      'Accept-Encoding': 'none',\n",
        "      'Accept-Language': 'en-US,en;q=0.8',\n",
        "      'Connection': 'keep-alive'}\n",
        "\n",
        "d = get(url, headers=hdr)\n",
        "soup = bs(d.content, 'html.parser')\n"
      ],
      "metadata": {
        "id": "1Fd6bpddxri9"
      },
      "execution_count": 43,
      "outputs": []
    },
    {
      "cell_type": "code",
      "source": [
        "containers = soup.findAll(\"div\", {\"class\": \"puis-card-container\"})\n",
        "print(len(containers))"
      ],
      "metadata": {
        "colab": {
          "base_uri": "https://localhost:8080/"
        },
        "id": "M2A_UEldyPLk",
        "outputId": "85c3a8ba-4cb3-495c-dfcd-dacc7c95191b"
      },
      "execution_count": 45,
      "outputs": [
        {
          "output_type": "stream",
          "name": "stdout",
          "text": [
            "24\n"
          ]
        }
      ]
    },
    {
      "cell_type": "code",
      "source": [
        "print(bs.prettify(containers[0]))"
      ],
      "metadata": {
        "colab": {
          "base_uri": "https://localhost:8080/"
        },
        "id": "5Blfr1gV3JrP",
        "outputId": "e1485f8f-99f9-4187-8993-572b763a8bd4"
      },
      "execution_count": 65,
      "outputs": [
        {
          "output_type": "stream",
          "name": "stdout",
          "text": [
            "<div class=\"puis-card-container s-card-container s-overflow-hidden aok-relative puis-expand-height puis-include-content-margin puis puis-v1vcm3c30a2jx02lrsa34oun9uo s-latency-cf-section puis-card-border\" data-cy=\"asin-faceout-container\">\n",
            " <div class=\"a-section a-spacing-base\">\n",
            "  <div class=\"s-product-image-container aok-relative s-text-center s-image-overlay-grey puis-image-overlay-grey s-padding-left-small s-padding-right-small puis-spacing-small s-height-equalized s-media-gallery s-media-gallery-treatment-T2 puis puis-v1vcm3c30a2jx02lrsa34oun9uo\" data-cy=\"image-container\">\n",
            "   <span class=\"rush-component\" data-component-type=\"s-product-image\" data-render-id=\"r1dq9d28xp0m2q2419i0h1l289d\" data-version-id=\"v1vcm3c30a2jx02lrsa34oun9uo\">\n",
            "    <a class=\"a-link-normal s-no-outline\" href=\"/Marvel-Hasbro-Legends-Captain-America/dp/B0BS4QVFVH/ref=sr_1_1?crid=32VY6RVCFIOGG&amp;dib=eyJ2IjoiMSJ9.WIWp-26ujDxuMKZ1d9slwvFhb5gGGuP7n190YlowSlx4RG9DsZGcK4hjo3rsEwxKJBQcQWq-4DhTGJvPtPF-qDycySf78cAeLadfSQl4ZxPkwlhAKxiEbCb2jqU5JsO-6s8DcnLu4fEtujohCY6BkIUnLizqB5IUtUXShoTbbns_vKxP0RNm1woaOL91NQaB_4Yom1l3FIH1c_W5hhMR_BniSw1hfqsCuelBb_GzMjheh6h-KJ4sIZ1iln4Jww592H0a3GHP9eesTLE3CH3uVBBo9ymsqeN2i_-qjokqDNs.5jFGCMnoR2aJ6P2uTz_9xdRAFwpnvSiQ-QfgqLbYMqQ&amp;dib_tag=se&amp;keywords=marvel+legends&amp;qid=1725165467&amp;s=toys&amp;sprefix=marvel+%2Ctoys%2C295&amp;sr=1-1\" tabindex=\"-1\" target=\"_blank\">\n",
            "     <div class=\"a-section aok-relative s-image-square-aspect\">\n",
            "      <img alt=\"Marvel Hasbro Legends Series Iron Man Mark 46, Captain America: Civil War Collectible 6 Inch Action Figures, Legends Actio...\" class=\"s-image\" data-image-index=\"1\" data-image-latency=\"s-product-image\" data-image-load=\"\" data-image-source-density=\"1\" src=\"https://m.media-amazon.com/images/I/617LD+3fEJL._AC_UL320_.jpg\" srcset=\"https://m.media-amazon.com/images/I/617LD+3fEJL._AC_UL320_.jpg 1x, https://m.media-amazon.com/images/I/617LD+3fEJL._AC_UL480_QL65_.jpg 1.5x, https://m.media-amazon.com/images/I/617LD+3fEJL._AC_UL640_QL65_.jpg 2x, https://m.media-amazon.com/images/I/617LD+3fEJL._AC_UL800_QL65_.jpg 2.5x, https://m.media-amazon.com/images/I/617LD+3fEJL._AC_UL960_QL65_.jpg 3x\"/>\n",
            "      <div class=\"s-media-gallery-image-stub aok-hidden\" data-s-media-gallery-image-properties='{\"alt\":\"Marvel Hasbro Legends Series Iron Man Mark 46, Captain America: Civil War Collectible 6 Inch Action Figures, Legends Actio...\",\"srcset\":\"https://m.media-amazon.com/images/I/81h4GJpkcxL._AC_UL320_.jpg 1x, https://m.media-amazon.com/images/I/81h4GJpkcxL._AC_UL480_QL65_.jpg 1.5x, https://m.media-amazon.com/images/I/81h4GJpkcxL._AC_UL640_QL65_.jpg 2x, https://m.media-amazon.com/images/I/81h4GJpkcxL._AC_UL800_QL65_.jpg 2.5x, https://m.media-amazon.com/images/I/81h4GJpkcxL._AC_UL960_QL65_.jpg 3x\",\"src\":\"https://m.media-amazon.com/images/I/81h4GJpkcxL._AC_UL320_.jpg\",\"classes\":\"s-image aok-hidden\"}'>\n",
            "      </div>\n",
            "      <div class=\"s-media-gallery-image-stub aok-hidden\" data-s-media-gallery-image-properties='{\"alt\":\"Marvel Hasbro Legends Series Iron Man Mark 46, Captain America: Civil War Collectible 6 Inch Action Figures, Legends Actio...\",\"srcset\":\"https://m.media-amazon.com/images/I/81z75syDspL._AC_UL320_.jpg 1x, https://m.media-amazon.com/images/I/81z75syDspL._AC_UL480_QL65_.jpg 1.5x, https://m.media-amazon.com/images/I/81z75syDspL._AC_UL640_QL65_.jpg 2x, https://m.media-amazon.com/images/I/81z75syDspL._AC_UL800_QL65_.jpg 2.5x, https://m.media-amazon.com/images/I/81z75syDspL._AC_UL960_QL65_.jpg 3x\",\"src\":\"https://m.media-amazon.com/images/I/81z75syDspL._AC_UL320_.jpg\",\"classes\":\"s-image aok-hidden\"}'>\n",
            "      </div>\n",
            "      <div class=\"s-media-gallery-image-stub aok-hidden\" data-s-media-gallery-image-properties='{\"alt\":\"Marvel Hasbro Legends Series Iron Man Mark 46, Captain America: Civil War Collectible 6 Inch Action Figures, Legends Actio...\",\"srcset\":\"https://m.media-amazon.com/images/I/71tdeU3E8lL._AC_UL320_.jpg 1x, https://m.media-amazon.com/images/I/71tdeU3E8lL._AC_UL480_QL65_.jpg 1.5x, https://m.media-amazon.com/images/I/71tdeU3E8lL._AC_UL640_QL65_.jpg 2x, https://m.media-amazon.com/images/I/71tdeU3E8lL._AC_UL800_QL65_.jpg 2.5x, https://m.media-amazon.com/images/I/71tdeU3E8lL._AC_UL960_QL65_.jpg 3x\",\"src\":\"https://m.media-amazon.com/images/I/71tdeU3E8lL._AC_UL320_.jpg\",\"classes\":\"s-image aok-hidden\"}'>\n",
            "      </div>\n",
            "      <div class=\"s-media-gallery-image-stub aok-hidden\" data-s-media-gallery-image-properties='{\"alt\":\"Marvel Hasbro Legends Series Iron Man Mark 46, Captain America: Civil War Collectible 6 Inch Action Figures, Legends Actio...\",\"srcset\":\"https://m.media-amazon.com/images/I/61yxKFyrN8L._AC_UL320_.jpg 1x, https://m.media-amazon.com/images/I/61yxKFyrN8L._AC_UL480_QL65_.jpg 1.5x, https://m.media-amazon.com/images/I/61yxKFyrN8L._AC_UL640_QL65_.jpg 2x, https://m.media-amazon.com/images/I/61yxKFyrN8L._AC_UL800_QL65_.jpg 2.5x, https://m.media-amazon.com/images/I/61yxKFyrN8L._AC_UL960_QL65_.jpg 3x\",\"src\":\"https://m.media-amazon.com/images/I/61yxKFyrN8L._AC_UL320_.jpg\",\"classes\":\"s-image aok-hidden\"}'>\n",
            "      </div>\n",
            "      <div class=\"s-media-gallery-image-stub aok-hidden\" data-s-media-gallery-image-properties='{\"alt\":\"Marvel Hasbro Legends Series Iron Man Mark 46, Captain America: Civil War Collectible 6 Inch Action Figures, Legends Actio...\",\"srcset\":\"https://m.media-amazon.com/images/I/61CJEywy2QL._AC_UL320_.jpg 1x, https://m.media-amazon.com/images/I/61CJEywy2QL._AC_UL480_QL65_.jpg 1.5x, https://m.media-amazon.com/images/I/61CJEywy2QL._AC_UL640_QL65_.jpg 2x, https://m.media-amazon.com/images/I/61CJEywy2QL._AC_UL800_QL65_.jpg 2.5x, https://m.media-amazon.com/images/I/61CJEywy2QL._AC_UL960_QL65_.jpg 3x\",\"src\":\"https://m.media-amazon.com/images/I/61CJEywy2QL._AC_UL320_.jpg\",\"classes\":\"s-image aok-hidden\"}'>\n",
            "      </div>\n",
            "      <div class=\"s-media-gallery-image-stub aok-hidden\" data-s-media-gallery-image-properties='{\"alt\":\"Marvel Hasbro Legends Series Iron Man Mark 46, Captain America: Civil War Collectible 6 Inch Action Figures, Legends Actio...\",\"srcset\":\"https://m.media-amazon.com/images/I/612K0Yq-gIL._AC_UL320_.jpg 1x, https://m.media-amazon.com/images/I/612K0Yq-gIL._AC_UL480_QL65_.jpg 1.5x, https://m.media-amazon.com/images/I/612K0Yq-gIL._AC_UL640_QL65_.jpg 2x, https://m.media-amazon.com/images/I/612K0Yq-gIL._AC_UL800_QL65_.jpg 2.5x, https://m.media-amazon.com/images/I/612K0Yq-gIL._AC_UL960_QL65_.jpg 3x\",\"src\":\"https://m.media-amazon.com/images/I/612K0Yq-gIL._AC_UL320_.jpg\",\"classes\":\"s-image aok-hidden\"}'>\n",
            "      </div>\n",
            "      <div class=\"s-media-gallery-control-container\">\n",
            "       <button aria-label=\"Previous image\" class=\"s-media-gallery-arrow s-media-gallery-previous\">\n",
            "        <svg aria-hidden=\"true\" class=\"aok-align-top\" focusable=\"false\" height=\"20\" viewbox=\"0 0 20 20\" width=\"20\" xmlns=\"http://www.w3.org/2000/svg\">\n",
            "         <path d=\"m12.475 17.778-4.95-4.95L4.697 10l2.828-2.828 4.95-4.95 2.828 2.828-4.95 4.95 4.95 4.95Z\">\n",
            "         </path>\n",
            "        </svg>\n",
            "       </button>\n",
            "       <button aria-label=\"Next image\" class=\"s-media-gallery-arrow s-media-gallery-next\">\n",
            "        <svg aria-hidden=\"true\" class=\"aok-align-top\" focusable=\"false\" height=\"20\" viewbox=\"0 0 20 20\" width=\"20\" xmlns=\"http://www.w3.org/2000/svg\">\n",
            "         <path d=\"m7.525 17.778 4.95-4.95L15.303 10l-2.828-2.828-4.95-4.95L4.697 5.05 9.647 10l-4.95 4.95Z\">\n",
            "         </path>\n",
            "        </svg>\n",
            "       </button>\n",
            "      </div>\n",
            "     </div>\n",
            "    </a>\n",
            "   </span>\n",
            "  </div>\n",
            "  <div class=\"a-section a-spacing-small puis-padding-left-small puis-padding-right-small\">\n",
            "   <div class=\"a-section a-spacing-none a-spacing-top-small s-title-instructions-style\" data-cy=\"title-recipe\">\n",
            "    <h2 class=\"a-size-mini a-spacing-none a-color-base s-line-clamp-4\">\n",
            "     <a class=\"a-link-normal s-underline-text s-underline-link-text s-link-style a-text-normal\" href=\"/Marvel-Hasbro-Legends-Captain-America/dp/B0BS4QVFVH/ref=sr_1_1?crid=32VY6RVCFIOGG&amp;dib=eyJ2IjoiMSJ9.WIWp-26ujDxuMKZ1d9slwvFhb5gGGuP7n190YlowSlx4RG9DsZGcK4hjo3rsEwxKJBQcQWq-4DhTGJvPtPF-qDycySf78cAeLadfSQl4ZxPkwlhAKxiEbCb2jqU5JsO-6s8DcnLu4fEtujohCY6BkIUnLizqB5IUtUXShoTbbns_vKxP0RNm1woaOL91NQaB_4Yom1l3FIH1c_W5hhMR_BniSw1hfqsCuelBb_GzMjheh6h-KJ4sIZ1iln4Jww592H0a3GHP9eesTLE3CH3uVBBo9ymsqeN2i_-qjokqDNs.5jFGCMnoR2aJ6P2uTz_9xdRAFwpnvSiQ-QfgqLbYMqQ&amp;dib_tag=se&amp;keywords=marvel+legends&amp;qid=1725165467&amp;s=toys&amp;sprefix=marvel+%2Ctoys%2C295&amp;sr=1-1\" target=\"_blank\">\n",
            "      <span class=\"a-size-base-plus a-color-base a-text-normal\">\n",
            "       Marvel Hasbro Legends Series Iron Man Mark 46, Captain America: Civil War Collectible 6 Inch Action Figures, Legends Action Figures\n",
            "      </span>\n",
            "     </a>\n",
            "    </h2>\n",
            "   </div>\n",
            "   <div class=\"a-section a-spacing-none a-spacing-top-micro\" data-cy=\"reviews-block\">\n",
            "    <div class=\"a-row a-size-small\">\n",
            "     <span aria-label=\"4.7 out of 5 stars\">\n",
            "      <span class=\"a-declarative\" data-a-popover='{\"closeButton\":true,\"closeButtonLabel\":\"\",\"activate\":\"onmouseover\",\"name\":\"\",\"position\":\"triggerBottom\",\"popoverLabel\":\"\",\"url\":\"/review/widgets/average-customer-review/popover/ref=acr_search__popover?ie=UTF8&amp;asin=B0BS4QVFVH&amp;ref_=acr_search__popover&amp;contextId=search\"}' data-action=\"a-popover\" data-csa-c-func-deps=\"aui-da-a-popover\" data-csa-c-type=\"widget\" data-render-id=\"r1dq9d28xp0m2q2419i0h1l289d\" data-version-id=\"v1vcm3c30a2jx02lrsa34oun9uo\">\n",
            "       <a class=\"a-popover-trigger a-declarative\" href=\"javascript:void(0)\" role=\"button\">\n",
            "        <i class=\"a-icon a-icon-star-small a-star-small-4-5 aok-align-bottom\" data-cy=\"reviews-ratings-slot\">\n",
            "         <span class=\"a-icon-alt\">\n",
            "          4.7 out of 5 stars\n",
            "         </span>\n",
            "        </i>\n",
            "        <i class=\"a-icon a-icon-popover\">\n",
            "        </i>\n",
            "       </a>\n",
            "      </span>\n",
            "     </span>\n",
            "     <span aria-label=\"351 ratings\">\n",
            "      <a class=\"a-link-normal s-underline-text s-underline-link-text s-link-style\" href=\"/Marvel-Hasbro-Legends-Captain-America/dp/B0BS4QVFVH/ref=sr_1_1?crid=32VY6RVCFIOGG&amp;dib=eyJ2IjoiMSJ9.WIWp-26ujDxuMKZ1d9slwvFhb5gGGuP7n190YlowSlx4RG9DsZGcK4hjo3rsEwxKJBQcQWq-4DhTGJvPtPF-qDycySf78cAeLadfSQl4ZxPkwlhAKxiEbCb2jqU5JsO-6s8DcnLu4fEtujohCY6BkIUnLizqB5IUtUXShoTbbns_vKxP0RNm1woaOL91NQaB_4Yom1l3FIH1c_W5hhMR_BniSw1hfqsCuelBb_GzMjheh6h-KJ4sIZ1iln4Jww592H0a3GHP9eesTLE3CH3uVBBo9ymsqeN2i_-qjokqDNs.5jFGCMnoR2aJ6P2uTz_9xdRAFwpnvSiQ-QfgqLbYMqQ&amp;dib_tag=se&amp;keywords=marvel+legends&amp;qid=1725165467&amp;s=toys&amp;sprefix=marvel+%2Ctoys%2C295&amp;sr=1-1#customerReviews\" target=\"_blank\">\n",
            "       <span class=\"a-size-base s-underline-text\">\n",
            "        351\n",
            "       </span>\n",
            "      </a>\n",
            "     </span>\n",
            "    </div>\n",
            "   </div>\n",
            "   <div class=\"a-section a-spacing-none a-spacing-top-small s-price-instructions-style\" data-cy=\"price-recipe\">\n",
            "    <div class=\"a-row a-size-base a-color-base\">\n",
            "     <div class=\"a-row\">\n",
            "      <a class=\"a-link-normal s-no-hover s-underline-text s-underline-link-text s-link-style a-text-normal\" href=\"/Marvel-Hasbro-Legends-Captain-America/dp/B0BS4QVFVH/ref=sr_1_1?crid=32VY6RVCFIOGG&amp;dib=eyJ2IjoiMSJ9.WIWp-26ujDxuMKZ1d9slwvFhb5gGGuP7n190YlowSlx4RG9DsZGcK4hjo3rsEwxKJBQcQWq-4DhTGJvPtPF-qDycySf78cAeLadfSQl4ZxPkwlhAKxiEbCb2jqU5JsO-6s8DcnLu4fEtujohCY6BkIUnLizqB5IUtUXShoTbbns_vKxP0RNm1woaOL91NQaB_4Yom1l3FIH1c_W5hhMR_BniSw1hfqsCuelBb_GzMjheh6h-KJ4sIZ1iln4Jww592H0a3GHP9eesTLE3CH3uVBBo9ymsqeN2i_-qjokqDNs.5jFGCMnoR2aJ6P2uTz_9xdRAFwpnvSiQ-QfgqLbYMqQ&amp;dib_tag=se&amp;keywords=marvel+legends&amp;qid=1725165467&amp;s=toys&amp;sprefix=marvel+%2Ctoys%2C295&amp;sr=1-1\" target=\"_blank\">\n",
            "       <span class=\"a-price\" data-a-color=\"base\" data-a-size=\"xl\">\n",
            "        <span class=\"a-offscreen\">\n",
            "         ₹6,093.06\n",
            "        </span>\n",
            "        <span aria-hidden=\"true\">\n",
            "         <span class=\"a-price-symbol\">\n",
            "          ₹\n",
            "         </span>\n",
            "         <span class=\"a-price-whole\">\n",
            "          6,093\n",
            "          <span class=\"a-price-decimal\">\n",
            "           .\n",
            "          </span>\n",
            "         </span>\n",
            "         <span class=\"a-price-fraction\">\n",
            "          06\n",
            "         </span>\n",
            "        </span>\n",
            "       </span>\n",
            "       <div class=\"a-section aok-inline-block\">\n",
            "        <span class=\"a-size-base a-color-secondary\">\n",
            "         M.R.P:\n",
            "        </span>\n",
            "        <span class=\"a-price a-text-price\" data-a-color=\"secondary\" data-a-size=\"b\" data-a-strike=\"true\">\n",
            "         <span class=\"a-offscreen\">\n",
            "          ₹8,043.91\n",
            "         </span>\n",
            "         <span aria-hidden=\"true\">\n",
            "          ₹8,043.91\n",
            "         </span>\n",
            "        </span>\n",
            "       </div>\n",
            "      </a>\n",
            "      <span class=\"a-letter-space\">\n",
            "      </span>\n",
            "      <span>\n",
            "       (24% off)\n",
            "      </span>\n",
            "     </div>\n",
            "     <div class=\"a-row\">\n",
            "     </div>\n",
            "    </div>\n",
            "    <div class=\"a-row a-size-base a-color-secondary\">\n",
            "     <span>\n",
            "      Buy 3 items, get 2% off\n",
            "     </span>\n",
            "    </div>\n",
            "   </div>\n",
            "   <div class=\"a-section a-spacing-none a-spacing-top-mini\">\n",
            "    <div class=\"a-row\">\n",
            "     <div class=\"puis-atcb-container\" data-atcb-props='{\"cartType\":\"DEFAULT\",\"csrfToken\":\"1@g0xYDKqXNKDgWvfdT2WbYUsMhQWhqZW/AbYc1zYcuEF2AAAAAQAAAABm0++bcmF3AAAAAGfA1H5nd8xGEcC3127HUQ==@ML8U5V\",\"sessionId\":\"259-6046838-4281921\",\"locale\":\"en-IN\"}' data-atcb-uid=\"atcb-B0BS4QVFVH-1\">\n",
            "      <div class=\"a-section puis-atcb-add-container aok-inline-block\">\n",
            "       <span class=\"a-declarative\" data-action=\"puis-atcb-add-action-retail\" data-csa-c-func-deps=\"aui-da-puis-atcb-add-action-retail\" data-csa-c-type=\"widget\" data-puis-atcb-add-action-retail='{\"messageSuccess\":\"Item Added\",\"neoAtcUrl\":\"\",\"messageError\":\"Failed to add item\",\"additionalParameters\":{},\"asin\":\"B0BS4QVFVH\",\"url\":\"https://data.amazon.in/api/marketplaces/A21TJRUUN4KGV/cart/carts/retail/items?ref=sr_atc_rt_add_1&amp;sr=1-1&amp;qid=1725165467&amp;discoveredAsins.0=B0BS4QVFVH\",\"offerListingId\":\"OjjnPurJ3fDlkvmwx01UxL%2B0DJFC5XPkGQI%2F6XYd9EVVgY70FlHQawpgga%2BSWqHz5WXMYTpPPvsubqNOVHTJdpwpJCZ3tbJlBsva9fhvIg4ntGlkCLqtz%2B8yGRo3vIBUnRzPJwlmOtLllgZ%2FyORTFMbVu%2Bha1SZz0rLDljZdjRRdwWaznbe5xxv9qjaNaZZi\"}' data-render-id=\"r1dq9d28xp0m2q2419i0h1l289d\" data-version-id=\"v1vcm3c30a2jx02lrsa34oun9uo\">\n",
            "        <div data-csa-c-action-name=\"addToCart\" data-csa-c-content-id=\"s-search-add-to-cart-action\" data-csa-c-device-env=\"WEB\" data-csa-c-device-os=\"UNRECOGNIZED\" data-csa-c-device-type=\"DESKTOP\" data-csa-c-item-id=\"B0BS4QVFVH\" data-csa-c-item-type=\"asin\" data-csa-c-type=\"action\">\n",
            "         <span class=\"a-button a-button-primary a-button-icon\">\n",
            "          <span class=\"a-button-inner\">\n",
            "           <i class=\"a-icon a-icon-cart\">\n",
            "           </i>\n",
            "           <button class=\"a-button-text\" type=\"button\">\n",
            "            Add to cart\n",
            "           </button>\n",
            "          </span>\n",
            "         </span>\n",
            "        </div>\n",
            "       </span>\n",
            "      </div>\n",
            "      <div class=\"a-row puis-atcb-remove-group aok-hidden\">\n",
            "       <span class=\"a-size-mini a-color-secondary puis-atcb-remove-group-message a-text-bold\">\n",
            "       </span>\n",
            "       <span class=\"a-size-mini\">\n",
            "        -\n",
            "       </span>\n",
            "       <span class=\"a-declarative\" data-action=\"puis-atcb-remove-action-retail\" data-csa-c-func-deps=\"aui-da-puis-atcb-remove-action-retail\" data-csa-c-type=\"widget\" data-puis-atcb-remove-action-retail='{\"messageError\":\"Failed to remove item\",\"url\":\"https://data.amazon.in/api/marketplaces/A21TJRUUN4KGV/cart/carts/retail/items?ref=sr_atc_rt_rmv_1&amp;sr=1-1&amp;qid=1725165467\",\"messageSuccess\":\"Item Removed\"}' data-render-id=\"r1dq9d28xp0m2q2419i0h1l289d\" data-version-id=\"v1vcm3c30a2jx02lrsa34oun9uo\">\n",
            "        <div class=\"aok-inline-block\" data-csa-c-action-name=\"removeFromCart\" data-csa-c-content-id=\"s-search-add-to-cart-action\" data-csa-c-device-env=\"WEB\" data-csa-c-device-os=\"UNRECOGNIZED\" data-csa-c-device-type=\"DESKTOP\" data-csa-c-item-id=\"B0BS4QVFVH\" data-csa-c-item-type=\"asin\" data-csa-c-type=\"action\">\n",
            "         <a class=\"a-size-mini a-link-normal s-underline-text s-underline-link-text s-link-style\" href=\"#\">\n",
            "          Remove\n",
            "         </a>\n",
            "        </div>\n",
            "       </span>\n",
            "      </div>\n",
            "      <div class=\"a-section puis-atcb-error-container aok-hidden\">\n",
            "       <div class=\"a-box a-alert-inline a-alert-inline-error\" role=\"alert\">\n",
            "        <div class=\"a-box-inner a-alert-container\">\n",
            "         <i class=\"a-icon a-icon-alert\">\n",
            "         </i>\n",
            "         <div class=\"a-alert-content\">\n",
            "          <span class=\"a-size-mini puis-atcb-error-message\">\n",
            "          </span>\n",
            "         </div>\n",
            "        </div>\n",
            "       </div>\n",
            "      </div>\n",
            "      <div class=\"a-section puis-atcb-extra-container\">\n",
            "      </div>\n",
            "     </div>\n",
            "    </div>\n",
            "   </div>\n",
            "   <div class=\"a-section a-spacing-none a-spacing-top-mini puis-interactive-asin-expander-hide\" data-cy=\"product-details-recipe\">\n",
            "    <div class=\"a-row a-size-base a-color-base\">\n",
            "     <span>\n",
            "      Ages: 4 years and up\n",
            "     </span>\n",
            "    </div>\n",
            "   </div>\n",
            "  </div>\n",
            " </div>\n",
            "</div>\n",
            "\n"
          ]
        }
      ]
    },
    {
      "cell_type": "code",
      "source": [
        "container=containers[0]\n",
        "print(container.div.div.a.img[\"alt\"])"
      ],
      "metadata": {
        "colab": {
          "base_uri": "https://localhost:8080/"
        },
        "id": "iihJ3ryK49_I",
        "outputId": "eb539865-ef8c-487d-e3c2-902b217e7a0f"
      },
      "execution_count": 57,
      "outputs": [
        {
          "output_type": "stream",
          "name": "stdout",
          "text": [
            "Marvel Hasbro Legends Series Iron Man Mark 46, Captain America: Civil War Collectible 6 Inch Action Figures, Legends Actio...\n"
          ]
        }
      ]
    },
    {
      "cell_type": "code",
      "source": [
        "price = container.findAll(\"span\", {\"class\": \"a-offscreen\"})\n",
        "print(price[0].text)"
      ],
      "metadata": {
        "colab": {
          "base_uri": "https://localhost:8080/"
        },
        "id": "Zph6iWwq5ME0",
        "outputId": "1ca9a39f-435c-4ca6-cd7e-1595e91d635c"
      },
      "execution_count": 58,
      "outputs": [
        {
          "output_type": "stream",
          "name": "stdout",
          "text": [
            "₹6,093.06\n"
          ]
        }
      ]
    },
    {
      "cell_type": "code",
      "source": [
        "ratings = container.findAll(\"div\", {\"class\": \"a-section a-spacing-none a-spacing-top-micro\"})\n",
        "print(ratings[0].text)"
      ],
      "metadata": {
        "colab": {
          "base_uri": "https://localhost:8080/"
        },
        "id": "4d34GubM6GKs",
        "outputId": "fc976951-28ff-41ca-cbc0-b5489d49f806"
      },
      "execution_count": 59,
      "outputs": [
        {
          "output_type": "stream",
          "name": "stdout",
          "text": [
            "4.7 out of 5 stars 351  \n"
          ]
        }
      ]
    },
    {
      "cell_type": "code",
      "source": [
        "filename='products.csv'\n",
        "f=open(filename,'w')\n",
        "headers='Product_Name, Pricing, Ratings \\n'\n",
        "f.write(headers)"
      ],
      "metadata": {
        "colab": {
          "base_uri": "https://localhost:8080/"
        },
        "id": "KyPJ4P2G7JSt",
        "outputId": "ff5883e8-89b0-42a5-f336-b4ef5a2a8edf"
      },
      "execution_count": 88,
      "outputs": [
        {
          "output_type": "execute_result",
          "data": {
            "text/plain": [
              "32"
            ]
          },
          "metadata": {},
          "execution_count": 88
        }
      ]
    },
    {
      "cell_type": "code",
      "source": [
        "for container in containers:\n",
        "    product_name = container.div.img[\"alt\"]\n",
        "    price_container = container.findAll(\"span\", {\"class\": \"a-offscreen\"})\n",
        "    price = price_container[0].text.strip() if price_container else \"N/A\"\n",
        "    price = ''.join(c for c in price if c.isdigit())\n",
        "\n",
        "    rating_container = container.findAll(\"div\", {\"class\": \"a-section a-spacing-none a-spacing-top-micro\"})\n",
        "    rating = rating_container[0].text if rating_container else \"N/A\"\n",
        "\n",
        "    f.write(product_name.replace(\",\", \"|\") + \",\" + price + \",\" + rating + \"\\n\")\n",
        "    print(\"product_name:\" + product_name)\n",
        "    print(\"price:\" + price)\n",
        "    print(\"ratings:\" + rating)\n",
        "\n",
        "f.close()"
      ],
      "metadata": {
        "colab": {
          "base_uri": "https://localhost:8080/"
        },
        "id": "wH9puPME7kGC",
        "outputId": "cc7530ba-7641-490b-dca4-829edb731915"
      },
      "execution_count": 90,
      "outputs": [
        {
          "output_type": "stream",
          "name": "stdout",
          "text": [
            "product_name:Marvel Hasbro Legends Series Iron Man Mark 46, Captain America: Civil War Collectible 6 Inch Action Figures, Legends Actio...\n",
            "price:609306\n",
            "ratings:4.7 out of 5 stars 351  \n",
            "product_name:MOTU Masters of The Universe Masters of The Universe Masterverse Collection, 7-in Battle Figure - Skeletor for Storytellin...\n",
            "price:999\n",
            "ratings:4.7 out of 5 stars 1,700  50+ bought in past month\n",
            "product_name:Marvel Legends Series Avengers Infinity War 6 inch Songbird\n",
            "price:1383\n",
            "ratings:4.4 out of 5 stars 237  \n",
            "product_name:Marvel Infinite Series Marvel's Chameleon\n",
            "price:1999\n",
            "ratings:4.0 out of 5 stars 36  \n",
            "product_name:MARVEL Legends Series Gamerverse 6-inch Collectible Mar-Vell Action Figure Toy, Ages 4 And Up\n",
            "price:2299\n",
            "ratings:4.5 out of 5 stars 886  \n",
            "product_name:Hasbro Marvel Legends Series Black Panther Legacy Collection, 6-inch Black Panther Collectible Figure and 3 Accessories F5...\n",
            "price:4837\n",
            "ratings:4.8 out of 5 stars 1,115  \n",
            "product_name:Marvel 6 Inch Legends Forces of Evil Whirlwind Action Figure (Build Red Skull)\n",
            "price:3999\n",
            "ratings:4.5 out of 5 stars 137  \n",
            "product_name:Marvel Legends Series Kang The Conqueror, Ant-Man & The Wasp: Quantumania Collectible 6-Inch Action Figures, Ages 4 and Up\n",
            "price:517278\n",
            "ratings:4.6 out of 5 stars 417  \n",
            "product_name:Marvel Hasbro Legends Series Captain America, Captain America: The Winter Soldier Collectible 6 Inch Action Figures, Legen...\n",
            "price:6309\n",
            "ratings:4.7 out of 5 stars 186  \n",
            "product_name:Daiyamondo Premium Super Hero 20cm Height Action Figure- Unlease The Power of Highly Detailed Collectible with Dynamic Pos...\n",
            "price:949\n",
            "ratings:4.5 out of 5 stars 28  \n",
            "product_name:Marvel X-men Action Figure (6 Inches, Multicolour)\n",
            "price:2175\n",
            "ratings:4.8 out of 5 stars 4,054  \n",
            "product_name:Hasbro Marvel Legends Series Magneto X-Men '97\" Inspired Marvel Legends 6\" Action Figure\n",
            "price:4299\n",
            "ratings:4.8 out of 5 stars 1,399  \n",
            "product_name:Marvel Legends Series Loki 15-cm Retro Packaging Action Figure Toy, 3 Accessories\n",
            "price:358754\n",
            "ratings:4.6 out of 5 stars 354  \n",
            "product_name:Marvel Avengers Mech Strike Captain America 6-inch Scale Action Figure Toy Captain America with Compatible Mech Battle Acc...\n",
            "price:1379\n",
            "ratings:N/A\n",
            "product_name:Spider-man Marvel Legends Series Spider-Shot, Comics Collectible 6-Inch Action Figure\n",
            "price:436694\n",
            "ratings:4.6 out of 5 stars 143  \n",
            "product_name:Marvel Legends 3.75-inch Marvel’s Enchantress & Executioner 2-Pack\n",
            "price:1926\n",
            "ratings:4.2 out of 5 stars 356  \n",
            "product_name:Marvel Black Panther 6-in Basic Action Figure, Toys for Kids Ages 4 and up\n",
            "price:449\n",
            "ratings:4.0 out of 5 stars 15  200+ bought in past month\n",
            "product_name:Marvel Spider-Man Mystery Web Gear Figure 6inch Thunder 6 Years & Above\n",
            "price:1198\n",
            "ratings:Only 2 left in stock.\n",
            "product_name:Marvel Avengers Marvel Action Figure (6 Inches, Multicolour)\n",
            "price:1999\n",
            "ratings:4.3 out of 5 stars 16,852  \n",
            "product_name:Marvel Legends Series 6-inch Collectible Action Figure Stepford Cuckoos Toy, Premium Design and 5 Accessories\n",
            "price:1999\n",
            "ratings:4.6 out of 5 stars 401  \n",
            "product_name:Marvel Legends Series Gamerverse 6-Inch Collectible Ms. Marvel'S Action Figure Toy, Ages 4 And Up\n",
            "price:1999\n",
            "ratings:4.4 out of 5 stars 1,184  \n",
            "product_name:SPIDER-MAN Marvel Hasbro Marvel Legends Series Friendly Neighborhood, No Way Home 6\" Size Action Figure, Ages 4+ F6507 Aut...\n",
            "price:\n",
            "ratings:4.5 out of 5 stars 921  \n",
            "product_name:Marvel Legends Series Disney Plus Moon Knight MCU Series Action Figure 6-inch Collectible Toy, Includes 4 Accessories\n",
            "price:\n",
            "ratings:4.8 out of 5 stars 1,724  \n",
            "product_name:MARVEL Legends Series Gamerverse 6-inch Collectible Marvel’s Rage Action Figure Toy, Ages 4 And Up\n",
            "price:2499\n",
            "ratings:4.5 out of 5 stars 470  \n"
          ]
        }
      ]
    },
    {
      "cell_type": "code",
      "source": [
        "with open('products.csv', 'r') as f:\n",
        "    contents = f.read()\n",
        "    print(contents)"
      ],
      "metadata": {
        "colab": {
          "base_uri": "https://localhost:8080/"
        },
        "id": "XsMGOnyu76Iq",
        "outputId": "6677224e-00b5-48ca-96de-520306558eb3"
      },
      "execution_count": 96,
      "outputs": [
        {
          "output_type": "stream",
          "name": "stdout",
          "text": [
            "Product_Name, Pricing, Ratings \n",
            "Marvel Hasbro Legends Series Iron Man Mark 46| Captain America: Civil War Collectible 6 Inch Action Figures| Legends Actio...,609306,4.7 out of 5 stars 351  \n",
            "MOTU Masters of The Universe Masters of The Universe Masterverse Collection| 7-in Battle Figure - Skeletor for Storytellin...,999,4.7 out of 5 stars 1,700  50+ bought in past month\n",
            "Marvel Legends Series Avengers Infinity War 6 inch Songbird,1383,4.4 out of 5 stars 237  \n",
            "Marvel Infinite Series Marvel's Chameleon,1999,4.0 out of 5 stars 36  \n",
            "MARVEL Legends Series Gamerverse 6-inch Collectible Mar-Vell Action Figure Toy| Ages 4 And Up,2299,4.5 out of 5 stars 886  \n",
            "Hasbro Marvel Legends Series Black Panther Legacy Collection| 6-inch Black Panther Collectible Figure and 3 Accessories F5...,4837,4.8 out of 5 stars 1,115  \n",
            "Marvel 6 Inch Legends Forces of Evil Whirlwind Action Figure (Build Red Skull),3999,4.5 out of 5 stars 137  \n",
            "Marvel Legends Series Kang The Conqueror| Ant-Man & The Wasp: Quantumania Collectible 6-Inch Action Figures| Ages 4 and Up,517278,4.6 out of 5 stars 417  \n",
            "Marvel Hasbro Legends Series Captain America| Captain America: The Winter Soldier Collectible 6 Inch Action Figures| Legen...,6309,4.7 out of 5 stars 186  \n",
            "Daiyamondo Premium Super Hero 20cm Height Action Figure- Unlease The Power of Highly Detailed Collectible with Dynamic Pos...,949,4.5 out of 5 stars 28  \n",
            "Marvel X-men Action Figure (6 Inches| Multicolour),2175,4.8 out of 5 stars 4,054  \n",
            "Hasbro Marvel Legends Series Magneto X-Men '97\" Inspired Marvel Legends 6\" Action Figure,4299,4.8 out of 5 stars 1,399  \n",
            "Marvel Legends Series Loki 15-cm Retro Packaging Action Figure Toy| 3 Accessories,358754,4.6 out of 5 stars 354  \n",
            "Marvel Avengers Mech Strike Captain America 6-inch Scale Action Figure Toy Captain America with Compatible Mech Battle Acc...,1379,N/A\n",
            "Spider-man Marvel Legends Series Spider-Shot| Comics Collectible 6-Inch Action Figure,436694,4.6 out of 5 stars 143  \n",
            "Marvel Legends 3.75-inch Marvel’s Enchantress & Executioner 2-Pack,1926,4.2 out of 5 stars 356  \n",
            "Marvel Black Panther 6-in Basic Action Figure| Toys for Kids Ages 4 and up,449,4.0 out of 5 stars 15  200+ bought in past month\n",
            "Marvel Spider-Man Mystery Web Gear Figure 6inch Thunder 6 Years & Above,1198,Only 2 left in stock.\n",
            "Marvel Avengers Marvel Action Figure (6 Inches| Multicolour),1999,4.3 out of 5 stars 16,852  \n",
            "Marvel Legends Series 6-inch Collectible Action Figure Stepford Cuckoos Toy| Premium Design and 5 Accessories,1999,4.6 out of 5 stars 401  \n",
            "Marvel Legends Series Gamerverse 6-Inch Collectible Ms. Marvel'S Action Figure Toy| Ages 4 And Up,1999,4.4 out of 5 stars 1,184  \n",
            "Marvel Hasbro Legends Series Iron Man Mark 46| Captain America: Civil War Collectible 6 Inch Action Figures| Legends Actio...,609306,4.7 out of 5 stars 351  \n",
            "MOTU Masters of The Universe Masters of The Universe Masterverse Collection| 7-in Battle Figure - Skeletor for Storytellin...,999,4.7 out of 5 stars 1,700  50+ bought in past month\n",
            "Marvel Legends Series Avengers Infinity War 6 inch Songbird,1383,4.4 out of 5 stars 237  \n",
            "Marvel Infinite Series Marvel's Chameleon,1999,4.0 out of 5 stars 36  \n",
            "MARVEL Legends Series Gamerverse 6-inch Collectible Mar-Vell Action Figure Toy| Ages 4 And Up,2299,4.5 out of 5 stars 886  \n",
            "Hasbro Marvel Legends Series Black Panther Legacy Collection| 6-inch Black Panther Collectible Figure and 3 Accessories F5...,4837,4.8 out of 5 stars 1,115  \n",
            "Marvel 6 Inch Legends Forces of Evil Whirlwind Action Figure (Build Red Skull),3999,4.5 out of 5 stars 137  \n",
            "Marvel Legends Series Kang The Conqueror| Ant-Man & The Wasp: Quantumania Collectible 6-Inch Action Figures| Ages 4 and Up,517278,4.6 out of 5 stars 417  \n",
            "Marvel Hasbro Legends Series Captain America| Captain America: The Winter Soldier Collectible 6 Inch Action Figures| Legen...,6309,4.7 out of 5 stars 186  \n",
            "Daiyamondo Premium Super Hero 20cm Height Action Figure- Unlease The Power of Highly Detailed Collectible with Dynamic Pos...,949,4.5 out of 5 stars 28  \n",
            "Marvel X-men Action Figure (6 Inches| Multicolour),2175,4.8 out of 5 stars 4,054  \n",
            "Hasbro Marvel Legends Series Magneto X-Men '97\" Inspired Marvel Legends 6\" Action Figure,4299,4.8 out of 5 stars 1,399  \n",
            "Marvel Legends Series Loki 15-cm Retro Packaging Action Figure Toy| 3 Accessories,358754,4.6 out of 5 stars 354  \n",
            "Marvel Avengers Mech Strike Captain America 6-inch Scale Action Figure Toy Captain America with Compatible Mech Battle Acc...,1379,N/A\n",
            "Spider-man Marvel Legends Series Spider-Shot| Comics Collectible 6-Inch Action Figure,436694,4.6 out of 5 stars 143  \n",
            "Marvel Legends 3.75-inch Marvel’s Enchantress & Executioner 2-Pack,1926,4.2 out of 5 stars 356  \n",
            "Marvel Black Panther 6-in Basic Action Figure| Toys for Kids Ages 4 and up,449,4.0 out of 5 stars 15  200+ bought in past month\n",
            "Marvel Spider-Man Mystery Web Gear Figure 6inch Thunder 6 Years & Above,1198,Only 2 left in stock.\n",
            "Marvel Avengers Marvel Action Figure (6 Inches| Multicolour),1999,4.3 out of 5 stars 16,852  \n",
            "Marvel Legends Series 6-inch Collectible Action Figure Stepford Cuckoos Toy| Premium Design and 5 Accessories,1999,4.6 out of 5 stars 401  \n",
            "Marvel Legends Series Gamerverse 6-Inch Collectible Ms. Marvel'S Action Figure Toy| Ages 4 And Up,1999,4.4 out of 5 stars 1,184  \n",
            "SPIDER-MAN Marvel Hasbro Marvel Legends Series Friendly Neighborhood| No Way Home 6\" Size Action Figure| Ages 4+ F6507 Aut...,,4.5 out of 5 stars 921  \n",
            "Marvel Legends Series Disney Plus Moon Knight MCU Series Action Figure 6-inch Collectible Toy| Includes 4 Accessories,,4.8 out of 5 stars 1,724  \n",
            "MARVEL Legends Series Gamerverse 6-inch Collectible Marvel’s Rage Action Figure Toy| Ages 4 And Up,2499,4.5 out of 5 stars 470  \n",
            "\n"
          ]
        }
      ]
    },
    {
      "cell_type": "code",
      "source": [],
      "metadata": {
        "id": "d0uP832yB-tj"
      },
      "execution_count": null,
      "outputs": []
    }
  ]
}